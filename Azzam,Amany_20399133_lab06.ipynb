{
  "cells": [
    {
      "cell_type": "markdown",
      "source": [
        "# Lab 6:  Neural Networks for Music Classification\n",
        "\n",
        "In addition to the concepts in the [MNIST neural network demo](./mnist_neural.ipynb), in this lab, you will learn to:\n",
        "* Load a file from a URL\n",
        "* Extract simple features from audio samples for machine learning tasks such as speech recognition and classification\n",
        "* Build a simple neural network for music classification using these features\n",
        "* Use a callback to store the loss and accuracy history in the training process\n",
        "* Optimize the learning rate of the neural network\n",
        "\n",
        "To illustrate the basic concepts, we will look at a relatively simple music classification problem.  Given a sample of music, we want to determine which instrument (e.g. trumpet, violin, piano) is playing.  This dataset was generously supplied by [Prof. Juan Bello](http://steinhardt.nyu.edu/faculty/Juan_Pablo_Bello) at NYU Stenihardt  and his former PhD student Eric Humphrey (now at Spotify).  They have a complete website dedicated to deep learning methods in music informatics:\n",
        "\n",
        "http://marl.smusic.nyu.edu/wordpress/projects/feature-learning-deep-architectures/deep-learning-python-tutorial/\n",
        "\n",
        "You can also check out Juan's <a href=\"http://www.nyu.edu/classes/bello/ACA.html\">course</a>.\n",
        "\n"
      ],
      "metadata": {
        "id": "9rNMXM-lJDVV"
      }
    },
    {
      "cell_type": "markdown",
      "source": [
        "## Loading the Keras package\n",
        "We begin by loading keras and the other packages"
      ],
      "metadata": {
        "id": "_iu9JppGJDVW"
      }
    },
    {
      "cell_type": "code",
      "source": [
        "import keras"
      ],
      "outputs": [],
      "execution_count": 21,
      "metadata": {
        "id": "8E6PNXHUJDVX"
      }
    },
    {
      "cell_type": "code",
      "source": [
        "import numpy as np\n",
        "import matplotlib\n",
        "import matplotlib.pyplot as plt\n",
        "%matplotlib inline"
      ],
      "outputs": [],
      "execution_count": 22,
      "metadata": {
        "collapsed": true,
        "id": "fQCYYqcAJDVY"
      }
    },
    {
      "cell_type": "markdown",
      "source": [
        "## Audio Feature Extraction with Librosa\n",
        "\n",
        "The key to audio classification is to extract the correct features. In addition to `keras`, we will need the `librosa` package.  The `librosa` package in python has a rich set of methods extracting the features of audio samples commonly used in machine learning tasks such as speech recognition and sound classification. \n",
        "\n",
        "Installation instructions and complete documentation for the package are given on the [librosa main page](https://librosa.github.io/librosa/).  On most systems, you should be able to simply use:\n",
        "\n",
        "    pip install -u librosa\n",
        "    \n",
        "For Unix, you may need to load some additional packages:\n",
        "\n",
        "    sudo apt-get install build-essential\n",
        "    sudo apt-get install libxext-dev python-qt4 qt4-dev-tools\n",
        "    pip install librosa\n",
        "    \n",
        "After you have installed the package, try to import it."
      ],
      "metadata": {
        "id": "wCmAqy5kJDVY"
      }
    },
    {
      "cell_type": "code",
      "source": [
        "import librosa\n",
        "import librosa.display\n",
        "import librosa.feature"
      ],
      "outputs": [],
      "execution_count": 23,
      "metadata": {
        "collapsed": true,
        "id": "Q6xPvH_-JDVY"
      }
    },
    {
      "cell_type": "markdown",
      "source": [
        "In this lab, we will use a set of music samples from the website:\n",
        "\n",
        "http://theremin.music.uiowa.edu\n",
        "\n",
        "This website has a great set of samples for audio processing.  Look on the web for how to use the `requests.get` and `file.write` commands to load the file at the URL provided into your working directory.\n",
        "\n",
        "You can play the audio sample by copying the file to your local machine and playing it on any media player.  If you listen to it you will hear a soprano saxaphone (with vibrato) playing four notes (C, C#, D, Eb)."
      ],
      "metadata": {
        "id": "-syDbHv1JDVZ"
      }
    },
    {
      "cell_type": "code",
      "source": [
        "import requests\n",
        "fn = \"SopSax.Vib.pp.C6Eb6.aiff\"\n",
        "url = \"http://theremin.music.uiowa.edu/sound files/MIS/Woodwinds/sopranosaxophone/\"+fn\n",
        "ff=requests.get(url)\n",
        "open (fn,\"wb\").write(ff.content)\n",
        "\n",
        "# TODO:  Load the file from url and save it in a file under the name fn"
      ],
      "outputs": [
        {
          "output_type": "execute_result",
          "data": {
            "text/plain": [
              "1418242"
            ]
          },
          "metadata": {},
          "execution_count": 24
        }
      ],
      "execution_count": 24,
      "metadata": {
        "collapsed": true,
        "colab": {
          "base_uri": "https://localhost:8080/"
        },
        "id": "bHNFi0l_JDVZ",
        "outputId": "c0bcb21c-e4ef-4894-bf36-81e1a457cf5e"
      }
    },
    {
      "cell_type": "markdown",
      "source": [
        "Next, use `librosa` command `librosa.load` to read the audio file with filename `fn` and get the samples `y` and sample rate `sr`."
      ],
      "metadata": {
        "id": "H1PhwV_bJDVZ"
      }
    },
    {
      "cell_type": "code",
      "source": [
        "# TODO\n",
        "# y, sr = ...\n",
        "\n",
        "y, sr = librosa.load(fn , sr=48100)"
      ],
      "outputs": [],
      "execution_count": 25,
      "metadata": {
        "collapsed": true,
        "id": "Jh-1zvXOJDVZ"
      }
    },
    {
      "cell_type": "markdown",
      "source": [
        "Extracting features from audio files is an entire subject on its own right.  A commonly used set of features are called the Mel Frequency Cepstral Coefficients (MFCCs).  These are derived from the so-called mel spectrogram which is something like a regular spectrogram, but the power and frequency are represented in log scale, which more naturally aligns with human perceptual processing.  You can run the code below to display the mel spectrogram from the audio sample.\n",
        "\n",
        "You can easily see the four notes played in the audio track.  You also see the 'harmonics' of each notes, which are other tones at integer multiples of the fundamental frequency of each note."
      ],
      "metadata": {
        "id": "BgcGQL3PJDVZ"
      }
    },
    {
      "cell_type": "code",
      "source": [
        "S = librosa.feature.melspectrogram(y=y, sr=sr, n_mels=128, fmax=8000)\n",
        "librosa.display.specshow(librosa.amplitude_to_db(S,ref=np.max),\n",
        "                         y_axis='mel', fmax=8000, x_axis='time')\n",
        "plt.colorbar(format='%+2.0f dB')\n",
        "plt.title('Mel spectrogram')\n",
        "plt.tight_layout()"
      ],
      "outputs": [
        {
          "output_type": "display_data",
          "data": {
            "text/plain": [
              "<Figure size 432x288 with 2 Axes>"
            ],
            "image/png": "[encoded data removed]"
          },
          "metadata": {
            "needs_background": "light"
          }
        }
      ],
      "execution_count": 26,
      "metadata": {
        "collapsed": true,
        "colab": {
          "base_uri": "https://localhost:8080/",
          "height": 297
        },
        "id": "f7pZfx2oJDVa",
        "outputId": "fc3a6a91-b794-4145-bbfb-05c3a1f87680"
      }
    },
    {
      "cell_type": "markdown",
      "source": [
        "## Downloading the Data\n",
        "\n",
        "Using the MFCC features described above, Eric Humphrey and Juan Bellow have created a complete data set that can used for instrument classification.  Essentially, they collected a number of data files from the website above.  For each audio file, the segmented the track into notes and then extracted 120 MFCCs for each note.  The goal is to recognize the instrument from the 120 MFCCs.  The process of feature extraction is quite involved.  So, we will just use their processed data provided at:\n",
        "\n",
        "https://github.com/marl/dl4mir-tutorial/blob/master/README.md\n",
        "\n",
        "Note the password.  Load the four files into some directory, say  `instrument_dataset`.  Then, load them with the commands."
      ],
      "metadata": {
        "id": "Ccbsc4HfJDVa"
      }
    },
    {
      "cell_type": "code",
      "source": [
        "\n",
        "Xtr = np.load('/content/uiowa_train_data.npy')\n",
        "ytr = np.load('/content/uiowa_train_labels.npy')\n",
        "Xts = np.load('/content/uiowa_test_data.npy')\n",
        "yts = np.load('/content/uiowa_test_labels.npy')"
      ],
      "outputs": [],
      "execution_count": 27,
      "metadata": {
        "collapsed": true,
        "id": "Ukg8jM1OJDVa"
      }
    },
    {
      "cell_type": "markdown",
      "source": [
        "Looking at the data files:\n",
        "* What are the number of training and test samples?\n",
        "* What is the number of features for each sample?\n",
        "* How many classes (i.e. instruments) are there per class.\n"
      ],
      "metadata": {
        "id": "izsROnLRJDVa"
      }
    },
    {
      "cell_type": "code",
      "source": [
        "# TODO\n",
        "\n",
        "print('number of  training samples is %d and test samples is %d'% (len(Xtr),len(Xts)))\n",
        "print ('number of features for each sample %d'% (Xtr.shape[1]))\n",
        "print('classes of training : %d'%(len(np.unique(ytr))))\n",
        "print('classes of testing : %d'%(len(np.unique(yts))))"
      ],
      "outputs": [
        {
          "output_type": "stream",
          "name": "stdout",
          "text": [
            "number of  training samples is 66247 and test samples is 14904\n",
            "number of features for each sample 120\n",
            "classes of training : 10\n",
            "classes of testing : 10\n"
          ]
        }
      ],
      "execution_count": 28,
      "metadata": {
        "collapsed": true,
        "colab": {
          "base_uri": "https://localhost:8080/"
        },
        "id": "s6Bgw2eBJDVb",
        "outputId": "652742bb-1bc5-41f0-d8b0-ff80d61a7c68"
      }
    },
    {
      "cell_type": "markdown",
      "source": [
        "Before continuing, you must scale the training and test data, `Xtr` and `Xts`.  Compute the mean and std deviation of each feature in `Xtr` and create a new training data set, `Xtr_scale`, by subtracting the mean and dividing by the std deviation.  Also compute a scaled test data set, `Xts_scale` using the mean and std deviation learned from the training data set."
      ],
      "metadata": {
        "id": "MTg7UTa5JDVb"
      }
    },
    {
      "cell_type": "code",
      "source": [
        "# TODO Scale the training and test matrices\n",
        "# Xtr_scale = ...\n",
        "# Xts_scale = ...\n",
        "\n",
        "Xtr_mean=np.mean(Xtr,axis=0)\n",
        "Xtr_std=np.std(Xtr,axis=0)\n",
        "Xtr_scale=(Xtr - Xtr_mean[None, :])/Xtr_std[None, :]\n",
        "Xts_scale=(Xts - Xtr_mean[None, :])/Xtr_std[None, :]\n",
        "print(Xtr_scale)\n",
        "print(Xts_scale)"
      ],
      "outputs": [
        {
          "output_type": "stream",
          "name": "stdout",
          "text": [
            "[[-0.31827517 -0.32885595 -0.29351324 ... -0.36022673 -0.25311227\n",
            "  -0.41772567]\n",
            " [-0.31018965 -0.2727317  -0.2771818  ... -0.17807889  0.22098027\n",
            "  -0.04118938]\n",
            " [-0.27996699 -0.30067912 -0.26579675 ... -0.22750957  0.43279931\n",
            "  -0.00953712]\n",
            " ...\n",
            " [-0.70541453 -0.70723946 -0.70942862 ...  3.33693492  4.20324336\n",
            "   3.70233809]\n",
            " [-0.71897237 -0.71054126 -0.71014551 ...  3.61543866  6.39878693\n",
            "   3.31839917]\n",
            " [-0.72390302 -0.7118741  -0.70965863 ...  1.07922697  1.84041084\n",
            "   1.42883157]]\n",
            "[[-0.21750643 -0.21681385 -0.22310685 ... -0.68837059 -0.80603516\n",
            "  -0.72767992]\n",
            " [-0.23309243 -0.23444571 -0.23947694 ... -0.73434555 -0.71418557\n",
            "  -0.791695  ]\n",
            " [-0.16197075 -0.20414146 -0.22111234 ... -0.66818614 -0.80244538\n",
            "  -0.68702929]\n",
            " ...\n",
            " [-0.66945232 -0.66272087 -0.66150228 ... -0.74286231 -0.74274835\n",
            "  -0.81456784]\n",
            " [-0.66689074 -0.66199011 -0.66236822 ... -0.59806106 -0.64959124\n",
            "  -0.54035891]\n",
            " [-0.66550011 -0.66405765 -0.66227782 ... -0.55623913 -0.55268092\n",
            "  -0.63606318]]\n"
          ]
        }
      ],
      "execution_count": 29,
      "metadata": {
        "collapsed": true,
        "colab": {
          "base_uri": "https://localhost:8080/"
        },
        "id": "1r4NNj4vJDVb",
        "outputId": "00d8f798-d1e5-4fe2-bf1f-3a7f425f50de"
      }
    },
    {
      "cell_type": "markdown",
      "source": [
        "## Building a Neural Network Classifier\n",
        "\n",
        "Following the example in [MNIST neural network demo](./mnist_neural.ipynb), clear the keras session.  Then, create a neural network `model` with:\n",
        "* `nh=256` hidden units\n",
        "* `sigmoid` activation\n",
        "* select the input and output shapes correctly\n",
        "* print the model summary"
      ],
      "metadata": {
        "collapsed": true,
        "id": "D9h-JCfoJDVb"
      }
    },
    {
      "cell_type": "code",
      "source": [
        "from keras.models import Model, Sequential\n",
        "from keras.layers import Dense, Activation"
      ],
      "outputs": [],
      "execution_count": 30,
      "metadata": {
        "collapsed": true,
        "id": "ysw24L0YJDVb"
      }
    },
    {
      "cell_type": "code",
      "source": [
        "# TODO clear session\n",
        "\n",
        "from keras import backend as k\n",
        "k.clear_session()"
      ],
      "outputs": [],
      "execution_count": 31,
      "metadata": {
        "collapsed": true,
        "id": "hpBXCSF-JDVb"
      }
    },
    {
      "cell_type": "code",
      "source": [
        "# TODO: construct the model\n",
        "\n",
        "nh=256\n",
        "no_in=Xtr_scale.shape[1]\n",
        "no_out=int(np.max(ytr)+1)\n",
        "model=Sequential()\n",
        "model.add(Dense(units=nh,input_shape=(no_in,),activation='sigmoid',name='hidden'))\n",
        "model.add(Dense(units=no_out,activation='softmax',name='output'))"
      ],
      "outputs": [],
      "execution_count": 32,
      "metadata": {
        "collapsed": true,
        "id": "bTjTvj2xJDVc"
      }
    },
    {
      "cell_type": "code",
      "source": [
        "# TODO:  Print the model summary\n",
        "\n",
        "model.summary()"
      ],
      "outputs": [
        {
          "output_type": "stream",
          "name": "stdout",
          "text": [
            "Model: \"sequential\"\n",
            "_________________________________________________________________\n",
            " Layer (type)                Output Shape              Param #   \n",
            "=================================================================\n",
            " hidden (Dense)              (None, 256)               30976     \n",
            "                                                                 \n",
            " output (Dense)              (None, 10)                2570      \n",
            "                                                                 \n",
            "=================================================================\n",
            "Total params: 33,546\n",
            "Trainable params: 33,546\n",
            "Non-trainable params: 0\n",
            "_________________________________________________________________\n"
          ]
        }
      ],
      "execution_count": 33,
      "metadata": {
        "collapsed": true,
        "colab": {
          "base_uri": "https://localhost:8080/"
        },
        "id": "yu8KsrkHJDVc",
        "outputId": "46864a59-941d-4d91-e045-16d2789e1e21"
      }
    },
    {
      "cell_type": "markdown",
      "source": [
        "To keep track of the loss history and validation accuracy, we will use a *callback* function as described in [Keras callback documentation](https://keras.io/callbacks/).  A callback is a class that is passed to the `fit` method.  Complete the `LoadHistory` callback class below to save the loss and validation accuracy."
      ],
      "metadata": {
        "id": "PHUEq4wMJDVc"
      }
    },
    {
      "cell_type": "code",
      "source": [
        "class LossHistory(keras.callbacks.Callback):\n",
        "    def on_train_begin(self, logs={}):\n",
        "        # TODO:  Create two empty lists, self.loss and self.val_acc\n",
        "        self.loss = []\n",
        "        self.val_acc = []\n",
        "       \n",
        "    def on_batch_end(self, batch, logs={}):\n",
        "        # TODO:  This is called at the end of each batch.  \n",
        "        # Add the loss in logs.get('loss') to the loss list\n",
        "        self.loss.append(logs.get('loss'))\n",
        "    def on_epoch_end(self, epoch, logs):\n",
        "        # TODO:  This is called at the end of each epoch.  \n",
        "        # Add the test accuracy in logs.get('val_acc') to the val_acc list\n",
        "       \n",
        "        self.val_acc.append(logs.get('val_acc'))\n",
        "\n",
        "# Create an instance of the history callback\n",
        "history_cb = LossHistory()"
      ],
      "outputs": [],
      "execution_count": 34,
      "metadata": {
        "collapsed": true,
        "id": "3g8NWIfBJDVc"
      }
    },
    {
      "cell_type": "markdown",
      "source": [
        "Create an optimizer and compile the model.  Select the appropriate loss function and metrics.  For the optimizer, use the Adam optimizer with a learning rate of 0.001"
      ],
      "metadata": {
        "id": "uqdS_KFFJDVc"
      }
    },
    {
      "cell_type": "code",
      "source": [
        "# TODO\n",
        "# opt = ...\n",
        "# model.compile(...)\n",
        "\n",
        "from tensorflow.keras import optimizers\n",
        "opt = optimizers.Adam(learning_rate=0.001)\n",
        "model.compile(opt,loss='sparse_categorical_crossentropy',metrics=['accuracy'])"
      ],
      "outputs": [],
      "execution_count": 35,
      "metadata": {
        "collapsed": true,
        "scrolled": true,
        "id": "5kBqqGYDJDVc"
      }
    },
    {
      "cell_type": "markdown",
      "source": [
        "Fit the model for 10 epochs using the scaled data for both the training and validation.  Use the `validation_data` option to pass the test data.  Also, pass the callback class create above.  Use a batch size of 100.  Your final accuracy should be >99%."
      ],
      "metadata": {
        "id": "WcMsCHS_JDVd"
      }
    },
    {
      "cell_type": "code",
      "source": [
        "# TODO\n",
        "batch_size = 100\n",
        "\n",
        "hist = model.fit(Xtr_scale, ytr, epochs= 10, batch_size= batch_size , validation_data= (Xts_scale, yts), callbacks=[history_cb])"
      ],
      "outputs": [
        {
          "output_type": "stream",
          "name": "stdout",
          "text": [
            "Epoch 1/10\n",
            "663/663 [==============================] - 3s 4ms/step - loss: 0.3579 - accuracy: 0.9032 - val_loss: 0.1838 - val_accuracy: 0.9494\n",
            "Epoch 2/10\n",
            "663/663 [==============================] - 3s 4ms/step - loss: 0.1003 - accuracy: 0.9763 - val_loss: 0.0960 - val_accuracy: 0.9710\n",
            "Epoch 3/10\n",
            "663/663 [==============================] - 3s 5ms/step - loss: 0.0591 - accuracy: 0.9855 - val_loss: 0.0614 - val_accuracy: 0.9866\n",
            "Epoch 4/10\n",
            "663/663 [==============================] - 2s 4ms/step - loss: 0.0412 - accuracy: 0.9893 - val_loss: 0.0515 - val_accuracy: 0.9862\n",
            "Epoch 5/10\n",
            "663/663 [==============================] - 2s 4ms/step - loss: 0.0315 - accuracy: 0.9919 - val_loss: 0.0399 - val_accuracy: 0.9894\n",
            "Epoch 6/10\n",
            "663/663 [==============================] - 2s 4ms/step - loss: 0.0251 - accuracy: 0.9935 - val_loss: 0.0346 - val_accuracy: 0.9905\n",
            "Epoch 7/10\n",
            "663/663 [==============================] - 3s 5ms/step - loss: 0.0205 - accuracy: 0.9944 - val_loss: 0.0319 - val_accuracy: 0.9910\n",
            "Epoch 8/10\n",
            "663/663 [==============================] - 3s 4ms/step - loss: 0.0173 - accuracy: 0.9953 - val_loss: 0.0277 - val_accuracy: 0.9915\n",
            "Epoch 9/10\n",
            "663/663 [==============================] - 3s 4ms/step - loss: 0.0146 - accuracy: 0.9962 - val_loss: 0.0260 - val_accuracy: 0.9918\n",
            "Epoch 10/10\n",
            "663/663 [==============================] - 3s 4ms/step - loss: 0.0125 - accuracy: 0.9970 - val_loss: 0.0257 - val_accuracy: 0.9908\n"
          ]
        }
      ],
      "execution_count": 36,
      "metadata": {
        "collapsed": true,
        "scrolled": true,
        "colab": {
          "base_uri": "https://localhost:8080/"
        },
        "id": "E7F72BVJJDVd",
        "outputId": "611d7cb4-98d0-4e77-cedb-4fbf473884fe"
      }
    },
    {
      "cell_type": "markdown",
      "source": [
        "Plot the validation accuracy saved in the `history_cb`. This gives one accuracy value per epoch.  You should see that the validation accuracy saturates at a little higher than 99%.  After that it \"bounces around\" due to the noise in the stochastic gradient descent."
      ],
      "metadata": {
        "id": "LQwicWbUJDVd"
      }
    },
    {
      "cell_type": "code",
      "source": [
        "# TODO\n",
        "epochs=np.arange(1,11)\n",
        "plt.plot(epochs,hist.history['val_accuracy'])\n",
        "plt.ylabel('Validation accuracy')\n",
        "plt.xlabel('Epochs')\n",
        "plt.title('Validation accuracy for each Epoch')"
      ],
      "outputs": [
        {
          "output_type": "execute_result",
          "data": {
            "text/plain": [
              "Text(0.5, 1.0, 'Validation accuracy for each Epoch')"
            ]
          },
          "metadata": {},
          "execution_count": 37
        },
        {
          "output_type": "display_data",
          "data": {
            "text/plain": [
              "<Figure size 432x288 with 1 Axes>"
            ],
            "image/png": "[encoded data removed]"
          },
          "metadata": {
            "needs_background": "light"
          }
        }
      ],
      "execution_count": 37,
      "metadata": {
        "collapsed": true,
        "colab": {
          "base_uri": "https://localhost:8080/",
          "height": 312
        },
        "id": "dLac2abRJDVd",
        "outputId": "de01c0d4-3c19-4895-a0e3-cb541db1285c"
      }
    },
    {
      "cell_type": "markdown",
      "source": [
        "Plot the loss values saved in the `history_cb` class.  Use the `semilogy` plot.  There is one loss value per step.  But, plot the x-axis in epochs.  Note that the epoch in step `i` is `epoch = i*batch_size/ntr` where `batch_size` is the batch_size and `ntr` is the total number of training samples."
      ],
      "metadata": {
        "id": "gi8M37vbJDVd"
      }
    },
    {
      "cell_type": "code",
      "source": [
        "# TODO\n",
        "\n",
        "hist=np.array(hist.history['loss'])\n",
        "print(hist)\n",
        "plt.semilogy(hist,'c')\n",
        "plt.xlabel('Loss')"
      ],
      "outputs": [
        {
          "output_type": "stream",
          "name": "stdout",
          "text": [
            "[0.35789776 0.10033023 0.05908841 0.04120598 0.03152062 0.0251456\n",
            " 0.02051905 0.01732186 0.01461997 0.01254626]\n"
          ]
        },
        {
          "output_type": "execute_result",
          "data": {
            "text/plain": [
              "Text(0.5, 0, 'Loss')"
            ]
          },
          "metadata": {},
          "execution_count": 38
        },
        {
          "output_type": "display_data",
          "data": {
            "text/plain": [
              "<Figure size 432x288 with 1 Axes>"
            ],
            "image/png": "[encoded data removed]"
          },
          "metadata": {
            "needs_background": "light"
          }
        }
      ],
      "execution_count": 38,
      "metadata": {
        "collapsed": true,
        "colab": {
          "base_uri": "https://localhost:8080/",
          "height": 331
        },
        "id": "Wdmb0dpnJDVd",
        "outputId": "1f438b63-ecc8-4f28-d415-a414f69b4dcc"
      }
    },
    {
      "cell_type": "markdown",
      "source": [
        "## Optimizing the Learning Rate\n",
        "\n",
        "One challenge in training neural networks is the selection of the learning rate.  Rerun the above code, trying three learning rates as shown in the vector `rates`.  For each learning rate:\n",
        "* clear the session\n",
        "* construct the network\n",
        "* select the optimizer.  Use the Adam optimizer with the appropriate learrning rate.\n",
        "* train the model\n",
        "* save the accuracy and losses"
      ],
      "metadata": {
        "id": "Jcf628n4JDVd"
      }
    },
    {
      "cell_type": "code",
      "source": [
        "import tensorflow.keras.backend as K\n",
        "rates = [0.01,0.001,0.0001]\n",
        "batch_size = 100\n",
        "loss_hist = []\n",
        "val_acc_hist = []\n",
        "acc_hist=[]\n",
        "# TODO\n",
        "\n",
        "for lr in rates:\n",
        "    K.clear_session()\n",
        "    nin = Xtr_scale.shape[1]  # dimension of input data\n",
        "    nh = 256     # number of hidden units\n",
        "    nout = int(np.max(ytr)+1)\n",
        "    print(nout)\n",
        "    model = Sequential()\n",
        "    model.add(Dense(units=nh, input_shape=(nin,), activation='sigmoid', name='hidden'))\n",
        "    model.add(Dense(units=nout, activation='softmax', name='output'))\n",
        "    opt = optimizers.Adam(lr) # beta_1=0.9, beta_2=0.999, epsilon=1e-08, decay=0.0)\n",
        "    model.compile(optimizer=opt,loss='sparse_categorical_crossentropy',metrics=['accuracy'])\n",
        "    hist = model.fit(Xtr_scale, ytr, epochs=20,batch_size=100, validation_data=(Xts_scale,yts))\n",
        "    loss_hist.append(hist.history['loss'])\n",
        "    acc_hist.append(hist.history['accuracy'])"
      ],
      "outputs": [
        {
          "output_type": "stream",
          "name": "stdout",
          "text": [
            "10\n",
            "Epoch 1/20\n",
            "663/663 [==============================] - 4s 5ms/step - loss: 0.1148 - accuracy: 0.9643 - val_loss: 0.0505 - val_accuracy: 0.9816\n",
            "Epoch 2/20\n",
            "663/663 [==============================] - 2s 4ms/step - loss: 0.0289 - accuracy: 0.9908 - val_loss: 0.0510 - val_accuracy: 0.9822\n",
            "Epoch 3/20\n",
            "663/663 [==============================] - 2s 4ms/step - loss: 0.0195 - accuracy: 0.9936 - val_loss: 0.0402 - val_accuracy: 0.9873\n",
            "Epoch 4/20\n",
            "663/663 [==============================] - 2s 4ms/step - loss: 0.0213 - accuracy: 0.9927 - val_loss: 0.0356 - val_accuracy: 0.9885\n",
            "Epoch 5/20\n",
            "663/663 [==============================] - 3s 5ms/step - loss: 0.0160 - accuracy: 0.9949 - val_loss: 0.0389 - val_accuracy: 0.9866\n",
            "Epoch 6/20\n",
            "663/663 [==============================] - 3s 4ms/step - loss: 0.0154 - accuracy: 0.9949 - val_loss: 0.0692 - val_accuracy: 0.9781\n",
            "Epoch 7/20\n",
            "663/663 [==============================] - 3s 4ms/step - loss: 0.0119 - accuracy: 0.9961 - val_loss: 0.0270 - val_accuracy: 0.9914\n",
            "Epoch 8/20\n",
            "663/663 [==============================] - 3s 4ms/step - loss: 0.0117 - accuracy: 0.9963 - val_loss: 0.0424 - val_accuracy: 0.9878\n",
            "Epoch 9/20\n",
            "663/663 [==============================] - 3s 4ms/step - loss: 0.0160 - accuracy: 0.9953 - val_loss: 0.0397 - val_accuracy: 0.9887\n",
            "Epoch 10/20\n",
            "663/663 [==============================] - 4s 5ms/step - loss: 0.0095 - accuracy: 0.9970 - val_loss: 0.0607 - val_accuracy: 0.9819\n",
            "Epoch 11/20\n",
            "663/663 [==============================] - 2s 4ms/step - loss: 0.0111 - accuracy: 0.9966 - val_loss: 0.0554 - val_accuracy: 0.9877\n",
            "Epoch 12/20\n",
            "663/663 [==============================] - 2s 4ms/step - loss: 0.0078 - accuracy: 0.9977 - val_loss: 0.0481 - val_accuracy: 0.9870\n",
            "Epoch 13/20\n",
            "663/663 [==============================] - 2s 4ms/step - loss: 0.0086 - accuracy: 0.9973 - val_loss: 0.0491 - val_accuracy: 0.9879\n",
            "Epoch 14/20\n",
            "663/663 [==============================] - 5s 7ms/step - loss: 0.0124 - accuracy: 0.9961 - val_loss: 0.0345 - val_accuracy: 0.9905\n",
            "Epoch 15/20\n",
            "663/663 [==============================] - 3s 4ms/step - loss: 0.0095 - accuracy: 0.9971 - val_loss: 0.0561 - val_accuracy: 0.9858\n",
            "Epoch 16/20\n",
            "663/663 [==============================] - 3s 4ms/step - loss: 0.0085 - accuracy: 0.9973 - val_loss: 0.0247 - val_accuracy: 0.9937\n",
            "Epoch 17/20\n",
            "663/663 [==============================] - 3s 4ms/step - loss: 0.0082 - accuracy: 0.9975 - val_loss: 0.0676 - val_accuracy: 0.9855\n",
            "Epoch 18/20\n",
            "663/663 [==============================] - 2s 4ms/step - loss: 0.0084 - accuracy: 0.9976 - val_loss: 0.0394 - val_accuracy: 0.9894\n",
            "Epoch 19/20\n",
            "663/663 [==============================] - 4s 5ms/step - loss: 0.0083 - accuracy: 0.9976 - val_loss: 0.1425 - val_accuracy: 0.9745\n",
            "Epoch 20/20\n",
            "663/663 [==============================] - 3s 4ms/step - loss: 0.0066 - accuracy: 0.9980 - val_loss: 0.0530 - val_accuracy: 0.9878\n",
            "10\n",
            "Epoch 1/20\n",
            "663/663 [==============================] - 3s 4ms/step - loss: 0.3595 - accuracy: 0.9011 - val_loss: 0.1739 - val_accuracy: 0.9587\n",
            "Epoch 2/20\n",
            "663/663 [==============================] - 3s 5ms/step - loss: 0.0997 - accuracy: 0.9762 - val_loss: 0.1008 - val_accuracy: 0.9714\n",
            "Epoch 3/20\n",
            "663/663 [==============================] - 3s 5ms/step - loss: 0.0589 - accuracy: 0.9856 - val_loss: 0.0658 - val_accuracy: 0.9834\n",
            "Epoch 4/20\n",
            "663/663 [==============================] - 3s 4ms/step - loss: 0.0416 - accuracy: 0.9896 - val_loss: 0.0541 - val_accuracy: 0.9868\n",
            "Epoch 5/20\n",
            "663/663 [==============================] - 3s 4ms/step - loss: 0.0317 - accuracy: 0.9917 - val_loss: 0.0424 - val_accuracy: 0.9881\n",
            "Epoch 6/20\n",
            "663/663 [==============================] - 3s 4ms/step - loss: 0.0250 - accuracy: 0.9936 - val_loss: 0.0372 - val_accuracy: 0.9895\n",
            "Epoch 7/20\n",
            "663/663 [==============================] - 4s 6ms/step - loss: 0.0208 - accuracy: 0.9947 - val_loss: 0.0333 - val_accuracy: 0.9902\n",
            "Epoch 8/20\n",
            "663/663 [==============================] - 3s 4ms/step - loss: 0.0171 - accuracy: 0.9956 - val_loss: 0.0266 - val_accuracy: 0.9924\n",
            "Epoch 9/20\n",
            "663/663 [==============================] - 3s 4ms/step - loss: 0.0151 - accuracy: 0.9960 - val_loss: 0.0253 - val_accuracy: 0.9914\n",
            "Epoch 10/20\n",
            "663/663 [==============================] - 3s 4ms/step - loss: 0.0129 - accuracy: 0.9966 - val_loss: 0.0222 - val_accuracy: 0.9928\n",
            "Epoch 11/20\n",
            "663/663 [==============================] - 3s 5ms/step - loss: 0.0114 - accuracy: 0.9969 - val_loss: 0.0249 - val_accuracy: 0.9909\n",
            "Epoch 12/20\n",
            "663/663 [==============================] - 3s 4ms/step - loss: 0.0104 - accuracy: 0.9972 - val_loss: 0.0241 - val_accuracy: 0.9924\n",
            "Epoch 13/20\n",
            "663/663 [==============================] - 2s 4ms/step - loss: 0.0087 - accuracy: 0.9978 - val_loss: 0.0270 - val_accuracy: 0.9906\n",
            "Epoch 14/20\n",
            "663/663 [==============================] - 3s 4ms/step - loss: 0.0080 - accuracy: 0.9978 - val_loss: 0.0235 - val_accuracy: 0.9913\n",
            "Epoch 15/20\n",
            "663/663 [==============================] - 3s 4ms/step - loss: 0.0074 - accuracy: 0.9980 - val_loss: 0.0245 - val_accuracy: 0.9913\n",
            "Epoch 16/20\n",
            "663/663 [==============================] - 4s 6ms/step - loss: 0.0069 - accuracy: 0.9981 - val_loss: 0.0235 - val_accuracy: 0.9915\n",
            "Epoch 17/20\n",
            "663/663 [==============================] - 2s 4ms/step - loss: 0.0064 - accuracy: 0.9983 - val_loss: 0.0258 - val_accuracy: 0.9910\n",
            "Epoch 18/20\n",
            "663/663 [==============================] - 2s 4ms/step - loss: 0.0056 - accuracy: 0.9985 - val_loss: 0.0266 - val_accuracy: 0.9908\n",
            "Epoch 19/20\n",
            "663/663 [==============================] - 3s 4ms/step - loss: 0.0053 - accuracy: 0.9987 - val_loss: 0.0273 - val_accuracy: 0.9907\n",
            "Epoch 20/20\n",
            "663/663 [==============================] - 3s 5ms/step - loss: 0.0050 - accuracy: 0.9986 - val_loss: 0.0251 - val_accuracy: 0.9909\n",
            "10\n",
            "Epoch 1/20\n",
            "663/663 [==============================] - 4s 4ms/step - loss: 1.1185 - accuracy: 0.6477 - val_loss: 0.8482 - val_accuracy: 0.6787\n",
            "Epoch 2/20\n",
            "663/663 [==============================] - 3s 4ms/step - loss: 0.5524 - accuracy: 0.8490 - val_loss: 0.5766 - val_accuracy: 0.8112\n",
            "Epoch 3/20\n",
            "663/663 [==============================] - 3s 5ms/step - loss: 0.3836 - accuracy: 0.9112 - val_loss: 0.4349 - val_accuracy: 0.8825\n",
            "Epoch 4/20\n",
            "663/663 [==============================] - 3s 5ms/step - loss: 0.2956 - accuracy: 0.9342 - val_loss: 0.3486 - val_accuracy: 0.9063\n",
            "Epoch 5/20\n",
            "663/663 [==============================] - 3s 4ms/step - loss: 0.2392 - accuracy: 0.9468 - val_loss: 0.2967 - val_accuracy: 0.9140\n",
            "Epoch 6/20\n",
            "663/663 [==============================] - 3s 4ms/step - loss: 0.1989 - accuracy: 0.9553 - val_loss: 0.2436 - val_accuracy: 0.9309\n",
            "Epoch 7/20\n",
            "663/663 [==============================] - 3s 4ms/step - loss: 0.1682 - accuracy: 0.9615 - val_loss: 0.2051 - val_accuracy: 0.9449\n",
            "Epoch 8/20\n",
            "663/663 [==============================] - 4s 6ms/step - loss: 0.1443 - accuracy: 0.9667 - val_loss: 0.1808 - val_accuracy: 0.9479\n",
            "Epoch 9/20\n",
            "663/663 [==============================] - 3s 4ms/step - loss: 0.1252 - accuracy: 0.9706 - val_loss: 0.1489 - val_accuracy: 0.9612\n",
            "Epoch 10/20\n",
            "663/663 [==============================] - 3s 4ms/step - loss: 0.1100 - accuracy: 0.9742 - val_loss: 0.1326 - val_accuracy: 0.9647\n",
            "Epoch 11/20\n",
            "663/663 [==============================] - 3s 4ms/step - loss: 0.0975 - accuracy: 0.9770 - val_loss: 0.1189 - val_accuracy: 0.9687\n",
            "Epoch 12/20\n",
            "663/663 [==============================] - 3s 5ms/step - loss: 0.0872 - accuracy: 0.9797 - val_loss: 0.1102 - val_accuracy: 0.9705\n",
            "Epoch 13/20\n",
            "663/663 [==============================] - 3s 5ms/step - loss: 0.0787 - accuracy: 0.9820 - val_loss: 0.1001 - val_accuracy: 0.9716\n",
            "Epoch 14/20\n",
            "663/663 [==============================] - 3s 4ms/step - loss: 0.0717 - accuracy: 0.9833 - val_loss: 0.0848 - val_accuracy: 0.9809\n",
            "Epoch 15/20\n",
            "663/663 [==============================] - 3s 4ms/step - loss: 0.0657 - accuracy: 0.9847 - val_loss: 0.0825 - val_accuracy: 0.9789\n",
            "Epoch 16/20\n",
            "663/663 [==============================] - 3s 4ms/step - loss: 0.0606 - accuracy: 0.9860 - val_loss: 0.0725 - val_accuracy: 0.9834\n",
            "Epoch 17/20\n",
            "663/663 [==============================] - 4s 6ms/step - loss: 0.0562 - accuracy: 0.9864 - val_loss: 0.0694 - val_accuracy: 0.9836\n",
            "Epoch 18/20\n",
            "663/663 [==============================] - 3s 4ms/step - loss: 0.0525 - accuracy: 0.9874 - val_loss: 0.0662 - val_accuracy: 0.9846\n",
            "Epoch 19/20\n",
            "663/663 [==============================] - 3s 4ms/step - loss: 0.0492 - accuracy: 0.9881 - val_loss: 0.0607 - val_accuracy: 0.9855\n",
            "Epoch 20/20\n",
            "663/663 [==============================] - 3s 4ms/step - loss: 0.0463 - accuracy: 0.9887 - val_loss: 0.0580 - val_accuracy: 0.9865\n"
          ]
        }
      ],
      "execution_count": 39,
      "metadata": {
        "collapsed": true,
        "colab": {
          "base_uri": "https://localhost:8080/"
        },
        "id": "8Ba3lT1zJDVe",
        "outputId": "3a90371e-dad9-4df0-fc6c-0c10b903c089"
      }
    },
    {
      "cell_type": "markdown",
      "source": [
        "Plot the loss funciton vs. the epoch number for all three learning rates on one graph.  You should see that the lower learning rates are more stable, but converge slower."
      ],
      "metadata": {
        "id": "uLTjGMPBJDVe"
      }
    },
    {
      "cell_type": "code",
      "source": [
        "# TODO\n",
        "arr_loss = np.array(loss_hist)\n",
        "epochs=np.arange(1,21)\n",
        "plt.plot( epochs,arr_loss[0, :],label='rate=0.01')\n",
        "plt.plot(epochs,arr_loss[1, :],label='rate=0.001')\n",
        "plt.plot(epochs,arr_loss[2, :],label='rate=0.0001')\n",
        "plt.legend() \n",
        "plt.xlim(0,21)\n",
        "plt.xlabel('epochs')\n",
        "plt.ylabel('loss function')\n",
        "plt.title('Loss Function for each Epoch')"
      ],
      "outputs": [
        {
          "output_type": "execute_result",
          "data": {
            "text/plain": [
              "Text(0.5, 1.0, 'Loss Function for each Epoch')"
            ]
          },
          "metadata": {},
          "execution_count": 40
        },
        {
          "output_type": "display_data",
          "data": {
            "text/plain": [
              "<Figure size 432x288 with 1 Axes>"
            ],
            "image/png": "[encoded data removed]"
          },
          "metadata": {
            "needs_background": "light"
          }
        }
      ],
      "execution_count": 40,
      "metadata": {
        "collapsed": true,
        "colab": {
          "base_uri": "https://localhost:8080/",
          "height": 312
        },
        "id": "MqUxUCXWJDVe",
        "outputId": "acdd579c-1cec-4cff-dc71-27e8cd918491"
      }
    }
  ],
  "metadata": {
    "anaconda-cloud": {},
    "kernelspec": {
      "display_name": "Python [conda root]",
      "language": "python",
      "name": "conda-root-py"
    },
    "language_info": {
      "codemirror_mode": {
        "name": "ipython",
        "version": 3
      },
      "file_extension": ".py",
      "mimetype": "text/x-python",
      "name": "python",
      "nbconvert_exporter": "python",
      "pygments_lexer": "ipython3",
      "version": "3.5.4"
    },
    "nteract": {
      "version": "0.28.0"
    },
    "colab": {
      "provenance": []
    }
  },
  "nbformat": 4,
  "nbformat_minor": 0
}